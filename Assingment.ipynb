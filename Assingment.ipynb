{
 "cells": [
  {
   "cell_type": "code",
   "execution_count": null,
   "metadata": {},
   "outputs": [],
   "source": []
  },
  {
   "attachments": {},
   "cell_type": "markdown",
   "metadata": {},
   "source": [
    "# Imports and load dataset"
   ]
  },
  {
   "cell_type": "code",
   "execution_count": 40,
   "metadata": {},
   "outputs": [],
   "source": [
    "import pandas as pd\n",
    "import numpy as np\n",
    "\n",
    "from scipy.stats import norm\n",
    "from scipy.stats import jarque_bera\n",
    "from scipy.stats import t\n",
    "from scipy.stats import gumbel_r\n",
    "from scipy.stats import kendalltau\n",
    "\n",
    "from scipy.optimize import minimize_scalar \n",
    "\n",
    "from statsmodels.distributions.copula.api import StudentTCopula, ClaytonCopula\n",
    "\n",
    "from sklearn.mixture import GaussianMixture\n",
    "from copulas.multivariate import GaussianMultivariate\n",
    "\n",
    "import matplotlib.pyplot as plt\n",
    "\n",
    "from copulas.bivariate import Clayton"
   ]
  },
  {
   "cell_type": "code",
   "execution_count": 2,
   "metadata": {},
   "outputs": [
    {
     "data": {
      "text/html": [
       "<div>\n",
       "<style scoped>\n",
       "    .dataframe tbody tr th:only-of-type {\n",
       "        vertical-align: middle;\n",
       "    }\n",
       "\n",
       "    .dataframe tbody tr th {\n",
       "        vertical-align: top;\n",
       "    }\n",
       "\n",
       "    .dataframe thead th {\n",
       "        text-align: right;\n",
       "    }\n",
       "</style>\n",
       "<table border=\"1\" class=\"dataframe\">\n",
       "  <thead>\n",
       "    <tr style=\"text-align: right;\">\n",
       "      <th></th>\n",
       "      <th>Stock1</th>\n",
       "      <th>Stock2</th>\n",
       "    </tr>\n",
       "  </thead>\n",
       "  <tbody>\n",
       "    <tr>\n",
       "      <th>0</th>\n",
       "      <td>2.67</td>\n",
       "      <td>2.91</td>\n",
       "    </tr>\n",
       "    <tr>\n",
       "      <th>1</th>\n",
       "      <td>6.81</td>\n",
       "      <td>4.16</td>\n",
       "    </tr>\n",
       "    <tr>\n",
       "      <th>2</th>\n",
       "      <td>-2.32</td>\n",
       "      <td>-1.38</td>\n",
       "    </tr>\n",
       "    <tr>\n",
       "      <th>3</th>\n",
       "      <td>7.36</td>\n",
       "      <td>1.24</td>\n",
       "    </tr>\n",
       "    <tr>\n",
       "      <th>4</th>\n",
       "      <td>-5.16</td>\n",
       "      <td>-4.17</td>\n",
       "    </tr>\n",
       "  </tbody>\n",
       "</table>\n",
       "</div>"
      ],
      "text/plain": [
       "   Stock1  Stock2\n",
       "0    2.67    2.91\n",
       "1    6.81    4.16\n",
       "2   -2.32   -1.38\n",
       "3    7.36    1.24\n",
       "4   -5.16   -4.17"
      ]
     },
     "execution_count": 2,
     "metadata": {},
     "output_type": "execute_result"
    }
   ],
   "source": [
    "df = pd.read_excel('573379_604455.xlsx')\n",
    "df = df[['Stock1','Stock2']]\n",
    "df.head()"
   ]
  },
  {
   "attachments": {},
   "cell_type": "markdown",
   "metadata": {},
   "source": [
    "# Useful functions"
   ]
  },
  {
   "cell_type": "code",
   "execution_count": 3,
   "metadata": {},
   "outputs": [],
   "source": [
    "def round_sig(x, sig=4):\n",
    "    return round(x, sig-int(np.floor(np.log10(abs(x))))-1)"
   ]
  },
  {
   "attachments": {},
   "cell_type": "markdown",
   "metadata": {},
   "source": [
    "# 1 Variance–covariance approach based on the two series\n"
   ]
  },
  {
   "cell_type": "code",
   "execution_count": 4,
   "metadata": {},
   "outputs": [
    {
     "name": "stdout",
     "output_type": "stream",
     "text": [
      "Mean Loss Return of Stock 1:  -0.03283\n",
      "Mean Loss Return of Stock 2:  0.03041\n",
      "Standard Deviation of Loss Return of Stock 1:  5.157\n",
      "Standard Deviation of Loss Return of Stock 2:  4.384\n",
      "Variance of Loss Return of Stock 1:  26.59\n",
      "Variance of Loss Return of Stock 2:  19.22\n",
      "Covariance of Loss Return of Stock 1 and Stock 2:  18.57\n",
      "Correlation of Loss Return of Stock 1 and Stock 2:  0.8215\n"
     ]
    }
   ],
   "source": [
    "# calculate the mean, variance, and covariance of the two stocks and print them out in format of a table\n",
    "mean_loss_return_stock1 = df['Stock1'].mean()\n",
    "mean_loss_return_stock2 = df['Stock2'].mean()\n",
    "std_loss_return_stock1 = df['Stock1'].std()\n",
    "std_loss_return_stock2 = df['Stock2'].std()\n",
    "var_loss_return_stock1 = df['Stock1'].var()\n",
    "var_loss_return_stock2 = df['Stock2'].var()\n",
    "covariance = df['Stock1'].cov(df['Stock2'])\n",
    "correlation = df['Stock1'].corr(df['Stock2'])\n",
    "\n",
    "print('Mean Loss Return of Stock 1: ', round_sig(mean_loss_return_stock1))\n",
    "print('Mean Loss Return of Stock 2: ', round_sig(mean_loss_return_stock2))\n",
    "\n",
    "print('Standard Deviation of Loss Return of Stock 1: ', round_sig(std_loss_return_stock1))\n",
    "print('Standard Deviation of Loss Return of Stock 2: ', round_sig(std_loss_return_stock2))\n",
    "\n",
    "print('Variance of Loss Return of Stock 1: ', round_sig(var_loss_return_stock1))\n",
    "print('Variance of Loss Return of Stock 2: ', round_sig(var_loss_return_stock2))\n",
    "\n",
    "print('Covariance of Loss Return of Stock 1 and Stock 2: ', round_sig(covariance))\n",
    "print('Correlation of Loss Return of Stock 1 and Stock 2: ', round_sig(correlation))\n"
   ]
  },
  {
   "cell_type": "code",
   "execution_count": 5,
   "metadata": {},
   "outputs": [
    {
     "name": "stdout",
     "output_type": "stream",
     "text": [
      "Portfolio Variance:  20.74\n",
      "Portfolio Standard Deviation:  4.554\n",
      "Portfolio Mean:  -0.001213\n"
     ]
    }
   ],
   "source": [
    "weight_stock1 = 0.5\n",
    "weight_stock2 = 0.5\n",
    "\n",
    "portfolio_variance = (var_loss_return_stock1 * weight_stock1 ** 2) + (var_loss_return_stock2 * weight_stock2 ** 2) + (2 * weight_stock1 * weight_stock2 * covariance)\n",
    "\n",
    "print('Portfolio Variance: ', round_sig(portfolio_variance))\n",
    "\n",
    "portfolio_std = np.sqrt(portfolio_variance)\n",
    "portfolio_mean = (mean_loss_return_stock1 * weight_stock1) + (mean_loss_return_stock2 * weight_stock2)\n",
    "\n",
    "print('Portfolio Standard Deviation: ', round_sig(portfolio_std))\n",
    "print('Portfolio Mean: ', round_sig(portfolio_mean))"
   ]
  },
  {
   "cell_type": "code",
   "execution_count": 6,
   "metadata": {},
   "outputs": [
    {
     "name": "stdout",
     "output_type": "stream",
     "text": [
      "VaR(99%) for the portfolio loss returns:  10.59\n"
     ]
    }
   ],
   "source": [
    "# Calculate the inverse of the normal cumulative distribution function for a probability of 0.99\n",
    "norminv = norm.ppf(0.99)\n",
    "# Calculate the one-day VaR(99%) for the portfolio loss returns\n",
    "var_99_method_1 = portfolio_mean + (norminv * portfolio_std)\n",
    "\n",
    "#Note: \n",
    "# Expected profit: portfolio_mean + (norminv * portfolio_std)\n",
    "# Expected loss: -portfolio_mean - (norminv * portfolio_std)\n",
    "\n",
    "print('VaR(99%) for the portfolio loss returns: ', round_sig(var_99_method_1))\n",
    "\n"
   ]
  },
  {
   "attachments": {},
   "cell_type": "markdown",
   "metadata": {},
   "source": [
    "# 2 Historical Simulation based on the portfolio loss returns"
   ]
  },
  {
   "cell_type": "code",
   "execution_count": 7,
   "metadata": {},
   "outputs": [
    {
     "name": "stdout",
     "output_type": "stream",
     "text": [
      "One-day VaR(99%):  12.21\n"
     ]
    }
   ],
   "source": [
    "# Calculate the portfolio loss returns for each day\n",
    "df['Portfolio_loss_return'] = (weight_stock1 * df['Stock1']) + (weight_stock2 * df['Stock2'])\n",
    "\n",
    "# Sort the portfolio loss returns in ascending order\n",
    "df_sorted = df.sort_values('Portfolio_loss_return', ascending= False)\n",
    "\n",
    "# Reset index\n",
    "df_sorted = df_sorted.reset_index(drop=True)\n",
    "\n",
    "# Calculate the one-day VaR(99%) as the 100th percentile of the sorted portfolio loss returns\n",
    "var_99_method_2 = df_sorted.iloc[int(0.01 * len(df_sorted))-1]['Portfolio_loss_return']\n",
    "\n",
    "print('One-day VaR(99%): ', round_sig(var_99_method_2,))"
   ]
  },
  {
   "attachments": {},
   "cell_type": "markdown",
   "metadata": {},
   "source": [
    "# 3 A normal mixture model mixing two normal distributions"
   ]
  },
  {
   "attachments": {},
   "cell_type": "markdown",
   "metadata": {},
   "source": [
    "### Hint: Conduct a JB test to check the normality of the portfolio loss return."
   ]
  },
  {
   "cell_type": "code",
   "execution_count": 8,
   "metadata": {},
   "outputs": [
    {
     "name": "stdout",
     "output_type": "stream",
     "text": [
      "JB test statistic:  465.1\n",
      "JB test p-value:  1.0069999999999993e-101\n"
     ]
    }
   ],
   "source": [
    "# Check the normality of the portfolio loss returns using the JB test\n",
    "statistic, p_value = jarque_bera(df['Portfolio_loss_return'])\n",
    "\n",
    "print('JB test statistic: ', round_sig(statistic))\n",
    "print('JB test p-value: ', round_sig(p_value))"
   ]
  },
  {
   "cell_type": "code",
   "execution_count": 9,
   "metadata": {},
   "outputs": [
    {
     "name": "stdout",
     "output_type": "stream",
     "text": [
      "Mean normal 1:  1.488\n",
      "Mean normal 2:  -1.591\n",
      "Std normal 1:  4.205\n",
      "Std normal 2:  4.368\n",
      "Prob normal 1:  0.5163\n",
      "Prob normal 2:  0.4837\n"
     ]
    }
   ],
   "source": [
    "if p_value > 0.05:\n",
    "    # The JB test indicates that the portfolio loss returns are not normally distributed\n",
    "    print('The portfolio loss returns are not normally distributed.')\n",
    "else:\n",
    "    # The JB test indicates that the portfolio loss returns are normally distributed\n",
    "    # Fit a normal mixture model to the portfolio loss returns\n",
    "    gmm = GaussianMixture(n_components=2)\n",
    "    gmm.fit(df['Portfolio_loss_return'].values.reshape(-1, 1))\n",
    "\n",
    "    # Get the means, standard deviations, and probabilities of the normal distributions\n",
    "    means = gmm.means_\n",
    "    stds = np.sqrt(gmm.covariances_).squeeze()\n",
    "    probs = gmm.weights_\n",
    "\n",
    "    # Print the results\n",
    "    print(\"Mean normal 1: \", round_sig(means[0][0]))\n",
    "    print(\"Mean normal 2: \", round_sig(means[1][0]))\n",
    "    print(\"Std normal 1: \", round_sig(stds[0]))\n",
    "    print(\"Std normal 2: \", round_sig(stds[1]))\n",
    "    print(\"Prob normal 1: \", round_sig(probs[0]))\n",
    "    print(\"Prob normal 2: \", round_sig(probs[1]))\n"
   ]
  },
  {
   "cell_type": "code",
   "execution_count": 10,
   "metadata": {},
   "outputs": [
    {
     "name": "stdout",
     "output_type": "stream",
     "text": [
      "Var 99%:  10.441025966051335\n"
     ]
    }
   ],
   "source": [
    "# Generate a large number of samples from the normal mixture model\n",
    "num_samples = 100000000\n",
    "samples = gmm.sample(n_samples=num_samples)[0]\n",
    "\n",
    "samples = samples.reshape(1,-1)[0]\n",
    "samples = np.sort(samples, )\n",
    "samples = samples[::-1]\n",
    "\n",
    "var_method_3 = samples[int(0.01 * len(samples))-1]\n",
    "print('Var 99%: ' , var_method_3)\n"
   ]
  },
  {
   "attachments": {},
   "cell_type": "markdown",
   "metadata": {},
   "source": [
    "# 6 Copula and upper tail dependence"
   ]
  },
  {
   "cell_type": "code",
   "execution_count": 28,
   "metadata": {},
   "outputs": [
    {
     "name": "stdout",
     "output_type": "stream",
     "text": [
      "The parameters for the first marginal distribution are: (5.345019682571221, 0.002304010179161553, 4.097563258507986)\n",
      "The parameters for the second marginal distribution are: (5.550778854900869, 0.05437234346310828, 3.5066114939509454)\n",
      "\n",
      "DOF 1: 5.345019682571221\n",
      "DOF 2: 5.550778854900869\n",
      "Mean 1: 0.002304010179161553\n",
      "Mean 2: 0.05437234346310828\n",
      "Sigma 1: 4.097563258507986\n",
      "Sigma 2: 3.5066114939509454\n",
      "\n",
      "Kendall Tau:  0.6194317626607205\n",
      "Clayton Copula Theta:  3.255299322883283\n"
     ]
    }
   ],
   "source": [
    "# Use Maximum Likelihood Estimation to fit the marginal distributions of two variables to Student's t-distributions\n",
    "marginal_distribution1_params = t.fit(df[df.columns[0]])\n",
    "marginal_distribution2_params = t.fit(df[df.columns[1]])\n",
    "\n",
    "print('The parameters for the first marginal distribution are:', marginal_distribution1_params)\n",
    "print('The parameters for the second marginal distribution are:', marginal_distribution2_params)\n",
    "print()\n",
    "\n",
    "dof_marginal_distribution1 = marginal_distribution1_params[0]\n",
    "dof_marginal_distribution2 = marginal_distribution2_params[0]\n",
    "\n",
    "mean_marginal_distribution1 = marginal_distribution1_params[1]\n",
    "mean_marginal_distribution2 = marginal_distribution2_params[1]\n",
    "\n",
    "sigma_marginal_distribution1 = marginal_distribution1_params[2]\n",
    "sigma_marginal_distribution2 = marginal_distribution2_params[2]\n",
    "\n",
    "print('DOF 1:', dof_marginal_distribution1)\n",
    "print('DOF 2:', dof_marginal_distribution2)\n",
    "print('Mean 1:', mean_marginal_distribution1)\n",
    "print('Mean 2:', mean_marginal_distribution2)\n",
    "print('Sigma 1:', sigma_marginal_distribution1)\n",
    "print('Sigma 2:', sigma_marginal_distribution2)\n",
    "print()\n",
    "\n",
    "# Calculate the Kendall Tau and Clayton copula theta\n",
    "\n",
    "kendalltau_value = kendalltau(df[df.columns[0]], df[df.columns[1]])\n",
    "#Clayton copula param: (tau = theta / (theta + 2)) => theta = -2*tau / (tau-1)\n",
    "clayton_theta = -2*kendalltau_value[0] / (kendalltau_value[0]-1)\n",
    "\n",
    "print('Kendall Tau: ', kendalltau_value[0])\n",
    "print('Clayton Copula Theta: ', clayton_theta)"
   ]
  },
  {
   "cell_type": "code",
   "execution_count": 36,
   "metadata": {},
   "outputs": [],
   "source": [
    "def simulationM6(dof1, dof2, mean1, mean2, sigma1, sigma2, theta, n_samples = 100000, ):\n",
    "    #MC simulation of the copula\n",
    "    clayton_copula = ClaytonCopula(theta)\n",
    "    n = n_samples\n",
    "    clayton_copula_samples = clayton_copula.rvs(nobs=n)\n",
    "\n",
    "    # Simulate the returns from the copula\n",
    "    returns = np.zeros((n, 2))\n",
    "    returns[:, 0] = t.ppf((1-clayton_copula_samples[:, 0]), dof1, loc=mean1, scale=sigma1)\n",
    "    returns[:, 1] = t.ppf((1-clayton_copula_samples[:, 1]), dof2, loc=mean2, scale=sigma2)\n",
    "    losses = (returns[:, 0] + returns[:, 1]) / 2\n",
    "\n",
    "    return losses"
   ]
  },
  {
   "cell_type": "code",
   "execution_count": 39,
   "metadata": {},
   "outputs": [
    {
     "name": "stdout",
     "output_type": "stream",
     "text": [
      "0.8082136298059142 lower_tail_coeff (is upper tail in reverse clayton)\n",
      "The 99% VaR is: 12.238165585519399\n"
     ]
    }
   ],
   "source": [
    "# Coefficient of the tail dependence : 2^(-1/theta)\n",
    "tail_dep_coeff = 2**(-1/clayton_theta)\n",
    "print(tail_dep_coeff, 'lower_tail_coeff (is upper tail in reverse clayton)')\n",
    "\n",
    "#MC simulation of the copula\n",
    "simulated_losses = simulationM6(dof_marginal_distribution1, dof_marginal_distribution2 ,mean_marginal_distribution1, mean_marginal_distribution2, sigma_marginal_distribution1, sigma_marginal_distribution2, clayton_theta)\n",
    "\n",
    "# 99% VaR\n",
    "VaR = np.percentile(simulated_losses, 99)\n",
    "print('The 99% VaR is:', VaR)"
   ]
  },
  {
   "cell_type": "code",
   "execution_count": 54,
   "metadata": {},
   "outputs": [],
   "source": [
    "def upper_tail_coeff(data, threshold, num_rows):\n",
    "    sorted_col1 = np.sort(data[:, 0], axis=0)\n",
    "    sorted_col2 = np.sort(data[:, 1], axis=0)\n",
    "    upper_tail_count = 0\n",
    "    for i in range(num_rows):\n",
    "        if data[i, 0] > sorted_col1[num_rows - 1 - threshold] and data[i, 1] > sorted_col2[num_rows - 1 - threshold]:\n",
    "            upper_tail_count += 1\n",
    "\n",
    "    upper_tail_count /= threshold\n",
    "    return upper_tail_count\n"
   ]
  },
  {
   "cell_type": "code",
   "execution_count": 58,
   "metadata": {},
   "outputs": [],
   "source": [
    "data = df.iloc[:,0:2].values\n",
    "lambda_array = np.zeros((1999,1))\n",
    "\n",
    "#Loop over the different values of k and calculate the empirical upper tail dependence coefficient\n",
    "for i in range(len(lambda_array) - 1):\n",
    "    lambda_array[i] = upper_tail_coeff(data,i+1, len(data))\n"
   ]
  },
  {
   "cell_type": "code",
   "execution_count": 61,
   "metadata": {},
   "outputs": [
    {
     "data": {
      "image/png": "[encoded data removed]",
      "text/plain": [
       "<Figure size 640x480 with 1 Axes>"
      ]
     },
     "metadata": {},
     "output_type": "display_data"
    }
   ],
   "source": [
    "t_start = 25\n",
    "t_end = 1500\n",
    "\n",
    "x = range(t_start,t_end)\n",
    "y = lambda_array[t_start:t_end]\n",
    "\n",
    "plt.plot(x,y)\n",
    "plt.show()"
   ]
  },
  {
   "cell_type": "code",
   "execution_count": null,
   "metadata": {},
   "outputs": [],
   "source": []
  }
 ],
 "metadata": {
  "kernelspec": {
   "display_name": "Python 3",
   "language": "python",
   "name": "python3"
  },
  "language_info": {
   "codemirror_mode": {
    "name": "ipython",
    "version": 3
   },
   "file_extension": ".py",
   "mimetype": "text/x-python",
   "name": "python",
   "nbconvert_exporter": "python",
   "pygments_lexer": "ipython3",
   "version": "3.11.0"
  },
  "orig_nbformat": 4,
  "vscode": {
   "interpreter": {
    "hash": "db35a02fd5d0ba4c5963f2cd8d92bdb63f7f3bde1f98582f1ef84023082d273b"
   }
  }
 },
 "nbformat": 4,
 "nbformat_minor": 2
}
